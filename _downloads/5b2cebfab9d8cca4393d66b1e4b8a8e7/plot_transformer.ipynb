{
  "cells": [
    {
      "cell_type": "code",
      "execution_count": null,
      "metadata": {
        "collapsed": false
      },
      "outputs": [],
      "source": [
        "%matplotlib inline"
      ]
    },
    {
      "cell_type": "markdown",
      "metadata": {},
      "source": [
        "\n# Transform example\n\nRank similarity transform makes an unsupervised non-linear transform, here on\nthe digits dataset. By plotting the first two dimensions, e.g. responses of the\nfirst two filters you can see which digits they are sensitive to.\n"
      ]
    },
    {
      "cell_type": "code",
      "execution_count": null,
      "metadata": {
        "collapsed": false
      },
      "outputs": [],
      "source": [
        "import numpy as np\nfrom matplotlib import pyplot as plt\nfrom ranksim import RankSimilarityTransform\n\nfrom sklearn.datasets import load_digits\nX, y = load_digits(return_X_y=True)\n\nembedding = RankSimilarityTransform(n_filters=10, n_iter=20, \n                                        random_state=0)\nX_transformed = embedding.fit_transform(X)\n\nplt.figure(figsize=(10,8))\nplt.scatter(X_transformed[:,0], X_transformed[:,1], c=y, cmap='tab10')\nplt.colorbar(boundaries=np.arange(11)-0.5).set_ticks(np.arange(10))\nplt.show()"
      ]
    }
  ],
  "metadata": {
    "kernelspec": {
      "display_name": "Python 3",
      "language": "python",
      "name": "python3"
    },
    "language_info": {
      "codemirror_mode": {
        "name": "ipython",
        "version": 3
      },
      "file_extension": ".py",
      "mimetype": "text/x-python",
      "name": "python",
      "nbconvert_exporter": "python",
      "pygments_lexer": "ipython3",
      "version": "3.8.12"
    }
  },
  "nbformat": 4,
  "nbformat_minor": 0
}